{
 "cells": [
  {
   "cell_type": "code",
   "execution_count": 6,
   "metadata": {},
   "outputs": [
    {
     "name": "stdout",
     "output_type": "stream",
     "text": [
      "Length:   0 Size in bytes:   64\n",
      "Length:   1 Size in bytes:   96\n",
      "Length:   2 Size in bytes:   96\n",
      "Length:   3 Size in bytes:   96\n",
      "Length:   4 Size in bytes:   96\n",
      "Length:   5 Size in bytes:  128\n",
      "Length:   6 Size in bytes:  128\n",
      "Length:   7 Size in bytes:  128\n",
      "Length:   8 Size in bytes:  128\n",
      "Length:   9 Size in bytes:  192\n"
     ]
    }
   ],
   "source": [
    "import sys\n",
    "\n",
    "n = 10\n",
    "data = []\n",
    "\n",
    "for i in range(n):\n",
    "    a = len(data)\n",
    "    b = sys.getsizeof(data)\n",
    "    \n",
    "    print(f'Length: {a:3d} Size in bytes: {b:4d}')\n",
    "\n",
    "    data.append(n)"
   ]
  },
  {
   "cell_type": "code",
   "execution_count": null,
   "metadata": {
    "collapsed": true
   },
   "outputs": [],
   "source": []
  }
 ],
 "metadata": {
  "kernelspec": {
   "display_name": "Python 3",
   "language": "python",
   "name": "python3"
  },
  "language_info": {
   "codemirror_mode": {
    "name": "ipython",
    "version": 3
   },
   "file_extension": ".py",
   "mimetype": "text/x-python",
   "name": "python",
   "nbconvert_exporter": "python",
   "pygments_lexer": "ipython3",
   "version": "3.6.0"
  }
 },
 "nbformat": 4,
 "nbformat_minor": 2
}
